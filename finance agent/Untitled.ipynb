{
 "cells": [
  {
   "cell_type": "code",
   "execution_count": 1,
   "id": "2995c6dc-7d82-4171-88f3-5777026b84c3",
   "metadata": {},
   "outputs": [],
   "source": [
    "groq_api_key = \"gsk_k7pKrTS*********************aO1GULgPR\""
   ]
  },
  {
   "cell_type": "code",
   "execution_count": 2,
   "id": "6b007332-7b25-4d97-a184-64f44bbbd6ea",
   "metadata": {},
   "outputs": [],
   "source": [
    "from langchain_groq import ChatGroq"
   ]
  },
  {
   "cell_type": "code",
   "execution_count": 3,
   "id": "228a75f4-22dc-4872-a035-0ee0d78b4b4f",
   "metadata": {},
   "outputs": [],
   "source": [
    "model = ChatGroq(api_key=groq_api_key , model=\"llama3-70b-8192\" , temperature=0)"
   ]
  },
  {
   "cell_type": "code",
   "execution_count": 4,
   "id": "31ed0ed5-9f6c-43ef-a3f0-8c88918b8b59",
   "metadata": {},
   "outputs": [
    {
     "data": {
      "text/plain": [
       "AIMessage(content=\"Hii! How's it going?\", additional_kwargs={}, response_metadata={'token_usage': {'completion_tokens': 9, 'prompt_tokens': 12, 'total_tokens': 21, 'completion_time': 0.027768569, 'prompt_time': 0.000134648, 'queue_time': 0.054331119, 'total_time': 0.027903217}, 'model_name': 'llama3-70b-8192', 'system_fingerprint': 'fp_dd4ae1c591', 'finish_reason': 'stop', 'logprobs': None}, id='run-ea8a0470-9f52-4579-b426-26e4c5802a8f-0', usage_metadata={'input_tokens': 12, 'output_tokens': 9, 'total_tokens': 21})"
      ]
     },
     "execution_count": 4,
     "metadata": {},
     "output_type": "execute_result"
    }
   ],
   "source": [
    "model.invoke('hii')"
   ]
  },
  {
   "cell_type": "markdown",
   "id": "e5908ba2-4ac6-4a0a-b390-b9ca6fab4aa7",
   "metadata": {},
   "source": [
    "## defining tools"
   ]
  },
  {
   "cell_type": "code",
   "execution_count": 6,
   "id": "186a5308-f62e-49d3-96e5-224693280a18",
   "metadata": {},
   "outputs": [],
   "source": [
    "from langchain_core.tools import tool,StructuredTool\n",
    "import yfinance as yf"
   ]
  },
  {
   "cell_type": "code",
   "execution_count": 7,
   "id": "47a2c4fa-8bc1-4bfe-9b4a-d38b381e9ac2",
   "metadata": {},
   "outputs": [],
   "source": [
    "@tool\n",
    "def company_address(ticker:str)-> str:\n",
    "    \"\"\"Return company address for input ticker.\n",
    "    eg. company_address : AAPL\n",
    "    retrun company address for ticker AAPL which is stock ticker for apple INC\"\"\"\n",
    "    ticker_obj = yf.Ticker(ticker)\n",
    "    info = ticker_obj.get_info()\n",
    "    return \" \".join([info[key] for key in ['address','city','state','zip','country']]) "
   ]
  },
  {
   "cell_type": "code",
   "execution_count": 8,
   "id": "f1a07198-3738-4f66-8e5f-46a47adcad36",
   "metadata": {},
   "outputs": [],
   "source": [
    "@tool\n",
    "def full_time_employee(ticker:str)-> str:\n",
    "    \"\"\"return full time employee count for input ticker\n",
    "    eg full_time_employee : MSFT\n",
    "    return full time employee count for ticker msft which is stock ticker in microsoft\n",
    "    \"\"\"\n",
    "    ticker_obj = yf.Ticker(ticker)\n",
    "    info = ticker_obj.get_info()\n",
    "    return info['fullTimeEmployees']"
   ]
  },
  {
   "cell_type": "code",
   "execution_count": 9,
   "id": "538dd0c2-1391-44d2-942b-cdf739431f58",
   "metadata": {},
   "outputs": [],
   "source": [
    "@tool\n",
    "def last_close_price(ticker:str)-> float:\n",
    "    \"\"\"Return last count price for input ticker \n",
    "    eg last_count_price : AAPL\n",
    "    return last count price of AAPL which is stock ticker for apple inc\"\"\"\n",
    "    ticker_obj = yf.Ticker(ticker)\n",
    "    info = ticker_obj.get_info()\n",
    "    return info['previousClose']"
   ]
  },
  {
   "cell_type": "code",
   "execution_count": 10,
   "id": "92a5dc5f-f72a-4145-838a-54f19e35c531",
   "metadata": {},
   "outputs": [],
   "source": [
    "@tool\n",
    "def EBITDA(ticker:str) -> float:\n",
    "    \"\"\"return EBITDA for input ticker\n",
    "    eg EBITDA : MSFT\n",
    "    return EBITDA of MSFT which is stock ticker for microsoft\n",
    "    \"\"\"\n",
    "    ticker_obj = yf.Ticker(ticker)\n",
    "    info = ticker_obj.get_info()\n",
    "    return info['ebitda']"
   ]
  },
  {
   "cell_type": "code",
   "execution_count": 11,
   "id": "792caea4-cd0c-4354-b058-069a9f1846a7",
   "metadata": {},
   "outputs": [],
   "source": [
    "@tool\n",
    "def total_debt(ticker :str)-> float:\n",
    "    \"\"\" Return total debt for input ticker\n",
    "    eg total_debt : AAPL\n",
    "    return total debt of AAPL which is stock ticker for apple\n",
    "    \"\"\"\n",
    "    ticker_obj = yf.Ticker(ticker)\n",
    "    info = ticker_obj.get_info()\n",
    "    return info['totalDebt']"
   ]
  },
  {
   "cell_type": "code",
   "execution_count": 12,
   "id": "c931b4b2-1bbe-4f1e-b76b-846c58d67219",
   "metadata": {},
   "outputs": [],
   "source": [
    "@tool\n",
    "def total_revenue(ticker :str)-> str:\n",
    "    \"\"\" Return total revenue for input ticker\n",
    "    eg total_revenue : AAPL\n",
    "    return total revenue of AAPL which is stock ticker for apple\n",
    "    \"\"\"\n",
    "    ticker_obj = yf.Ticker(ticker)\n",
    "    info = ticker_obj.get_info()\n",
    "    return info['totalRevenue']"
   ]
  },
  {
   "cell_type": "code",
   "execution_count": 13,
   "id": "aa5649a2-3f17-49a7-9382-e5d02a2de5f7",
   "metadata": {},
   "outputs": [],
   "source": [
    "@tool\n",
    "def debt_to_equility(ticker :str)-> float:\n",
    "    \"\"\" Return debt to equility for input ticker\n",
    "    eg debt_to_equility : AAPL\n",
    "    return debt to equility of AAPL which is stock ticker for apple\n",
    "    \"\"\"\n",
    "    ticker_obj = yf.Ticker(ticker)\n",
    "    info = ticker_obj.get_info()\n",
    "    return info['debtToEquity']"
   ]
  },
  {
   "cell_type": "code",
   "execution_count": 14,
   "id": "31e4696b-d30f-4d67-9c26-91fa36efb74d",
   "metadata": {},
   "outputs": [],
   "source": [
    "tools = [company_address,\n",
    "         full_time_employee,\n",
    "         last_close_price,\n",
    "         EBITDA,  \n",
    "         total_debt,\n",
    "         total_revenue,\n",
    "         debt_to_equility]"
   ]
  },
  {
   "cell_type": "code",
   "execution_count": 15,
   "id": "527e84de-61e3-46de-94e6-d605bbb447a7",
   "metadata": {},
   "outputs": [],
   "source": [
    "llm = model.bind_tools(tools , tool_choice=\"auto\")"
   ]
  },
  {
   "cell_type": "code",
   "execution_count": 16,
   "id": "ec5619ff-be3f-4d3e-a41e-1d789892d4c4",
   "metadata": {},
   "outputs": [
    {
     "data": {
      "text/plain": [
       "AIMessage(content='Hi! How can I help you today?', additional_kwargs={}, response_metadata={'token_usage': {'completion_tokens': 10, 'prompt_tokens': 1661, 'total_tokens': 1671, 'completion_time': 0.081120559, 'prompt_time': 0.062459281, 'queue_time': 0.060236938999999996, 'total_time': 0.14357984}, 'model_name': 'llama3-70b-8192', 'system_fingerprint': 'fp_dd4ae1c591', 'finish_reason': 'stop', 'logprobs': None}, id='run-60006f45-75ae-4e92-bf85-82084dc8088e-0', usage_metadata={'input_tokens': 1661, 'output_tokens': 10, 'total_tokens': 1671})"
      ]
     },
     "execution_count": 16,
     "metadata": {},
     "output_type": "execute_result"
    }
   ],
   "source": [
    "llm.invoke('hii?')"
   ]
  },
  {
   "cell_type": "markdown",
   "id": "86489365-87ac-46c7-97e7-8edb9faca69c",
   "metadata": {},
   "source": [
    "## ReAct agent"
   ]
  },
  {
   "cell_type": "code",
   "execution_count": 18,
   "id": "08b23c6b-bef9-45a2-932b-e23857b5e7b6",
   "metadata": {},
   "outputs": [],
   "source": [
    "from langgraph.graph import StateGraph , END\n",
    "from typing import TypedDict , Annotated \n",
    "import operator\n",
    "from langchain_core.messages import HumanMessage , SystemMessage , ToolMessage , AnyMessage"
   ]
  },
  {
   "cell_type": "code",
   "execution_count": 43,
   "id": "a7eb2a7d-ce36-4196-8006-55ec3dc7dda0",
   "metadata": {},
   "outputs": [],
   "source": [
    "class AgentState(TypedDict):\n",
    "    messages: Annotated[list[AnyMessage], operator.add]"
   ]
  },
  {
   "cell_type": "code",
   "execution_count": 45,
   "id": "105d81a2-12bc-4ffa-a6c5-3c86f7a804eb",
   "metadata": {},
   "outputs": [],
   "source": [
    "class ReActAgent:\n",
    "    \n",
    "    def __init__(self, model, tools, system=\"\"):\n",
    "        self.system = system\n",
    "        self.tools = {t.name: t for t in tools}\n",
    "        self.model = model.bind_tools(tools, tool_choice=\"auto\")\n",
    "        \n",
    "        graph = StateGraph(AgentState)\n",
    "        graph.add_node(\"llama3\", self.call_llm)\n",
    "        graph.add_node(\"action\", self.take_action)\n",
    "        graph.add_conditional_edges(\n",
    "            \"llama3\",\n",
    "            self.exists_action,\n",
    "            {True: \"action\", False: END}\n",
    "        )\n",
    "        graph.add_edge(\"action\", \"llama3\")\n",
    "        graph.set_entry_point(\"llama3\")\n",
    "        self.graph = graph.compile()\n",
    "        \n",
    "    def exists_action(self, state: AgentState):\n",
    "        result = state['messages'][-1]\n",
    "        return len(result.tool_calls) > 0\n",
    "\n",
    "    def call_llm(self, state: AgentState):\n",
    "        messages = state['messages']\n",
    "        if self.system:\n",
    "            messages = [SystemMessage(content=self.system)] + messages\n",
    "        message = self.model.invoke(messages)\n",
    "        return {'messages': [message]}\n",
    "\n",
    "    def take_action(self, state: AgentState):\n",
    "        tool_calls = state['messages'][-1].tool_calls\n",
    "        results = []\n",
    "        for t in tool_calls:\n",
    "            print(f\"Calling Tool: {t}\")\n",
    "            if not t['name'] in self.tools: \n",
    "                print(f\"\\n Tool: {t} does not exist.\")\n",
    "                result = \"Incorrect Tool Name, Please Retry and Select tool from List of Available tools.\" \n",
    "            else:\n",
    "                result = self.tools[t['name']].invoke(t['args'])\n",
    "            results.append(ToolMessage(tool_call_id=t['id'], name=t['name'], content=str(result)))\n",
    "        print(\"Tools Execution Complete. Back to the model!\")\n",
    "        return {'messages': results}"
   ]
  },
  {
   "cell_type": "code",
   "execution_count": 47,
   "id": "bccff106-e5ec-4665-b479-bf8e286b9a17",
   "metadata": {},
   "outputs": [],
   "source": [
    "prompt= \"\"\"\n",
    "you are a smart ai finance assistant use list of aviable tools to answer question if need .\n",
    "you are allowed to call multiples calls (either together or a sequence),\n",
    "if you need to look up some information before asking a follow up question , you are allow to do that.\"\"\""
   ]
  },
  {
   "cell_type": "code",
   "execution_count": 49,
   "id": "9148061c-a323-4a90-b957-4b1064296982",
   "metadata": {},
   "outputs": [],
   "source": [
    "agent = ReActAgent(model , tools , system = prompt)"
   ]
  },
  {
   "cell_type": "markdown",
   "id": "6d304ee1-4a95-4eb1-aa9b-4ed3ca6e0916",
   "metadata": {},
   "source": [
    "## use agent"
   ]
  },
  {
   "cell_type": "code",
   "execution_count": 52,
   "id": "b692fcaf-d3d0-4468-a363-ef6f7e487ba2",
   "metadata": {},
   "outputs": [
    {
     "name": "stdout",
     "output_type": "stream",
     "text": [
      "Calling Tool: {'name': 'EBITDA', 'args': {'ticker': 'GOOGL'}, 'id': 'call_sh8s', 'type': 'tool_call'}\n",
      "Calling Tool: {'name': 'debt_to_equility', 'args': {'ticker': 'GOOGL'}, 'id': 'call_x0dt', 'type': 'tool_call'}\n",
      "Tools Execution Complete. Back to the model!\n",
      "The EBITDA of Google is 129496997888 and the debt-to-equity ratio is 8.655.\n"
     ]
    }
   ],
   "source": [
    "messages = [HumanMessage(content=\"What is EBITDA and debt-to-equity ratio of Google?\")]\n",
    "result = agent.graph.invoke({'messages': messages})\n",
    "print(result['messages'][-1].content)"
   ]
  },
  {
   "cell_type": "code",
   "execution_count": 56,
   "id": "a31899df-fa42-45b0-95ed-4e82242dcff3",
   "metadata": {},
   "outputs": [
    {
     "name": "stdout",
     "output_type": "stream",
     "text": [
      "Calling Tool: {'name': 'total_revenue', 'args': {'ticker': 'AAPL'}, 'id': 'call_w805', 'type': 'tool_call'}\n",
      "Calling Tool: {'name': 'total_revenue', 'args': {'ticker': 'NVDA'}, 'id': 'call_4kx7', 'type': 'tool_call'}\n",
      "Tools Execution Complete. Back to the model!\n",
      "To compare the total revenue of Apple and Nvidia, I can calculate the ratio of Apple's total revenue to Nvidia's total revenue.\n",
      "\n",
      "Apple's total revenue is 395760009216.\n",
      "Nvidia's total revenue is 130497003520.\n",
      "\n",
      "The ratio of Apple's total revenue to Nvidia's total revenue is approximately 3.03.\n",
      "\n",
      "So, Apple's total revenue is approximately 3.03 times Nvidia's total revenue.\n"
     ]
    }
   ],
   "source": [
    "messages = [HumanMessage(content=\"Compare total revenue of Apple and Nvidia and how many times.\")]\n",
    "result = agent.graph.invoke({'messages': messages})\n",
    "print(result['messages'][-1].content)"
   ]
  },
  {
   "cell_type": "code",
   "execution_count": 58,
   "id": "374ed132-4fd0-43e1-a331-2522e9e799ce",
   "metadata": {},
   "outputs": [
    {
     "name": "stdout",
     "output_type": "stream",
     "text": [
      "Calling Tool: {'name': 'total_revenue', 'args': {'ticker': 'TSLA'}, 'id': 'call_57yn', 'type': 'tool_call'}\n",
      "Tools Execution Complete. Back to the model!\n",
      "Calling Tool: {'name': 'full_time_employee', 'args': {'ticker': 'TSLA'}, 'id': 'call_yczr', 'type': 'tool_call'}\n",
      "Tools Execution Complete. Back to the model!\n",
      "Calling Tool: {'name': 'last_close_price', 'args': {'ticker': 'TSLA'}, 'id': 'call_d71z', 'type': 'tool_call'}\n",
      "Tools Execution Complete. Back to the model!\n",
      "You want to know the total stocks in Tesla. Based on the information gathered, I don't have a direct tool to provide the total stocks. However, I can provide some relevant information. The total revenue of Tesla is 95724003328, and the full-time employee count is 125665. The last close price of Tesla's stock is 250.74. If you want to know the total stocks, you might need to look up the total shares outstanding or the market capitalization of Tesla, which I don't have a tool for.\n"
     ]
    }
   ],
   "source": [
    "messages = [HumanMessage(content=\"total stocks in tesla\")]\n",
    "result = agent.graph.invoke({'messages': messages})\n",
    "print(result['messages'][-1].content)"
   ]
  },
  {
   "cell_type": "code",
   "execution_count": null,
   "id": "fff26042-6358-46ab-bdee-154829f7211e",
   "metadata": {},
   "outputs": [],
   "source": []
  },
  {
   "cell_type": "code",
   "execution_count": null,
   "id": "f0b905c2-af54-4ea6-8e5e-32a30e55e7a8",
   "metadata": {},
   "outputs": [],
   "source": []
  }
 ],
 "metadata": {
  "kernelspec": {
   "display_name": "genai",
   "language": "python",
   "name": "genai"
  },
  "language_info": {
   "codemirror_mode": {
    "name": "ipython",
    "version": 3
   },
   "file_extension": ".py",
   "mimetype": "text/x-python",
   "name": "python",
   "nbconvert_exporter": "python",
   "pygments_lexer": "ipython3",
   "version": "3.10.16"
  }
 },
 "nbformat": 4,
 "nbformat_minor": 5
}
